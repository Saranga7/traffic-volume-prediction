{
 "cells": [
  {
   "cell_type": "code",
   "execution_count": 1,
   "metadata": {},
   "outputs": [],
   "source": [
    "import pandas as pd"
   ]
  },
  {
   "cell_type": "code",
   "execution_count": 2,
   "metadata": {},
   "outputs": [],
   "source": [
    "X_full =pd.read_csv(\"Train.csv\",index_col='date_time',parse_dates=True)\n",
    "X_test_full =pd.read_csv(\"Test.csv\",index_col='date_time',parse_dates=True)"
   ]
  },
  {
   "cell_type": "code",
   "execution_count": 3,
   "metadata": {},
   "outputs": [
    {
     "name": "stdout",
     "output_type": "stream",
     "text": [
      "(33750, 14)\n",
      "(14454, 13)\n"
     ]
    }
   ],
   "source": [
    "print(X_full.shape)\n",
    "print(X_test_full.shape)"
   ]
  },
  {
   "cell_type": "code",
   "execution_count": 4,
   "metadata": {},
   "outputs": [
    {
     "name": "stdout",
     "output_type": "stream",
     "text": [
      "(33750, 14)\n"
     ]
    }
   ],
   "source": [
    "print(X_full.shape)\n",
    "X_full.head()\n",
    "\n",
    "X_test=X_test_full.drop([\"air_pollution_index\",\"visibility_in_miles\",\"dew_point\",\"rain_p_h\",\"snow_p_h\",\"weather_type\",\"weather_description\"],axis=1)"
   ]
  },
  {
   "cell_type": "code",
   "execution_count": 5,
   "metadata": {},
   "outputs": [
    {
     "name": "stdout",
     "output_type": "stream",
     "text": [
      "(14454, 13)\n"
     ]
    },
    {
     "data": {
      "text/html": [
       "<div>\n",
       "<style scoped>\n",
       "    .dataframe tbody tr th:only-of-type {\n",
       "        vertical-align: middle;\n",
       "    }\n",
       "\n",
       "    .dataframe tbody tr th {\n",
       "        vertical-align: top;\n",
       "    }\n",
       "\n",
       "    .dataframe thead th {\n",
       "        text-align: right;\n",
       "    }\n",
       "</style>\n",
       "<table border=\"1\" class=\"dataframe\">\n",
       "  <thead>\n",
       "    <tr style=\"text-align: right;\">\n",
       "      <th></th>\n",
       "      <th>is_holiday</th>\n",
       "      <th>air_pollution_index</th>\n",
       "      <th>humidity</th>\n",
       "      <th>wind_speed</th>\n",
       "      <th>wind_direction</th>\n",
       "      <th>visibility_in_miles</th>\n",
       "      <th>dew_point</th>\n",
       "      <th>temperature</th>\n",
       "      <th>rain_p_h</th>\n",
       "      <th>snow_p_h</th>\n",
       "      <th>clouds_all</th>\n",
       "      <th>weather_type</th>\n",
       "      <th>weather_description</th>\n",
       "    </tr>\n",
       "    <tr>\n",
       "      <th>date_time</th>\n",
       "      <th></th>\n",
       "      <th></th>\n",
       "      <th></th>\n",
       "      <th></th>\n",
       "      <th></th>\n",
       "      <th></th>\n",
       "      <th></th>\n",
       "      <th></th>\n",
       "      <th></th>\n",
       "      <th></th>\n",
       "      <th></th>\n",
       "      <th></th>\n",
       "      <th></th>\n",
       "    </tr>\n",
       "  </thead>\n",
       "  <tbody>\n",
       "    <tr>\n",
       "      <th>2017-05-18 00:00:00</th>\n",
       "      <td>None</td>\n",
       "      <td>73</td>\n",
       "      <td>63</td>\n",
       "      <td>1</td>\n",
       "      <td>27</td>\n",
       "      <td>4</td>\n",
       "      <td>4</td>\n",
       "      <td>285.15</td>\n",
       "      <td>0.0</td>\n",
       "      <td>0</td>\n",
       "      <td>90</td>\n",
       "      <td>Rain</td>\n",
       "      <td>moderate rain</td>\n",
       "    </tr>\n",
       "    <tr>\n",
       "      <th>2017-05-18 00:00:00</th>\n",
       "      <td>None</td>\n",
       "      <td>251</td>\n",
       "      <td>63</td>\n",
       "      <td>1</td>\n",
       "      <td>27</td>\n",
       "      <td>4</td>\n",
       "      <td>4</td>\n",
       "      <td>285.15</td>\n",
       "      <td>0.0</td>\n",
       "      <td>0</td>\n",
       "      <td>90</td>\n",
       "      <td>Mist</td>\n",
       "      <td>mist</td>\n",
       "    </tr>\n",
       "    <tr>\n",
       "      <th>2017-05-18 00:00:00</th>\n",
       "      <td>None</td>\n",
       "      <td>75</td>\n",
       "      <td>56</td>\n",
       "      <td>1</td>\n",
       "      <td>0</td>\n",
       "      <td>1</td>\n",
       "      <td>1</td>\n",
       "      <td>285.15</td>\n",
       "      <td>0.0</td>\n",
       "      <td>0</td>\n",
       "      <td>90</td>\n",
       "      <td>Drizzle</td>\n",
       "      <td>light intensity drizzle</td>\n",
       "    </tr>\n",
       "    <tr>\n",
       "      <th>2017-05-18 01:00:00</th>\n",
       "      <td>None</td>\n",
       "      <td>98</td>\n",
       "      <td>56</td>\n",
       "      <td>1</td>\n",
       "      <td>351</td>\n",
       "      <td>2</td>\n",
       "      <td>2</td>\n",
       "      <td>284.79</td>\n",
       "      <td>0.0</td>\n",
       "      <td>0</td>\n",
       "      <td>90</td>\n",
       "      <td>Rain</td>\n",
       "      <td>heavy intensity rain</td>\n",
       "    </tr>\n",
       "    <tr>\n",
       "      <th>2017-05-18 01:00:00</th>\n",
       "      <td>None</td>\n",
       "      <td>283</td>\n",
       "      <td>56</td>\n",
       "      <td>1</td>\n",
       "      <td>351</td>\n",
       "      <td>1</td>\n",
       "      <td>1</td>\n",
       "      <td>284.79</td>\n",
       "      <td>0.0</td>\n",
       "      <td>0</td>\n",
       "      <td>90</td>\n",
       "      <td>Mist</td>\n",
       "      <td>mist</td>\n",
       "    </tr>\n",
       "  </tbody>\n",
       "</table>\n",
       "</div>"
      ],
      "text/plain": [
       "                    is_holiday  air_pollution_index  humidity  wind_speed  \\\n",
       "date_time                                                                   \n",
       "2017-05-18 00:00:00       None                   73        63           1   \n",
       "2017-05-18 00:00:00       None                  251        63           1   \n",
       "2017-05-18 00:00:00       None                   75        56           1   \n",
       "2017-05-18 01:00:00       None                   98        56           1   \n",
       "2017-05-18 01:00:00       None                  283        56           1   \n",
       "\n",
       "                     wind_direction  visibility_in_miles  dew_point  \\\n",
       "date_time                                                             \n",
       "2017-05-18 00:00:00              27                    4          4   \n",
       "2017-05-18 00:00:00              27                    4          4   \n",
       "2017-05-18 00:00:00               0                    1          1   \n",
       "2017-05-18 01:00:00             351                    2          2   \n",
       "2017-05-18 01:00:00             351                    1          1   \n",
       "\n",
       "                     temperature  rain_p_h  snow_p_h  clouds_all weather_type  \\\n",
       "date_time                                                                       \n",
       "2017-05-18 00:00:00       285.15       0.0         0          90         Rain   \n",
       "2017-05-18 00:00:00       285.15       0.0         0          90         Mist   \n",
       "2017-05-18 00:00:00       285.15       0.0         0          90      Drizzle   \n",
       "2017-05-18 01:00:00       284.79       0.0         0          90         Rain   \n",
       "2017-05-18 01:00:00       284.79       0.0         0          90         Mist   \n",
       "\n",
       "                         weather_description  \n",
       "date_time                                     \n",
       "2017-05-18 00:00:00            moderate rain  \n",
       "2017-05-18 00:00:00                     mist  \n",
       "2017-05-18 00:00:00  light intensity drizzle  \n",
       "2017-05-18 01:00:00     heavy intensity rain  \n",
       "2017-05-18 01:00:00                     mist  "
      ]
     },
     "execution_count": 5,
     "metadata": {},
     "output_type": "execute_result"
    }
   ],
   "source": [
    "print(X_test_full.shape)\n",
    "X_test_full.head()"
   ]
  },
  {
   "cell_type": "code",
   "execution_count": 6,
   "metadata": {},
   "outputs": [],
   "source": [
    "y=X_full.traffic_volume\n",
    "X_full.drop([\"traffic_volume\"],axis=1,inplace=True)\n"
   ]
  },
  {
   "cell_type": "code",
   "execution_count": 7,
   "metadata": {},
   "outputs": [
    {
     "data": {
      "text/plain": [
       "(33750, 13)"
      ]
     },
     "execution_count": 7,
     "metadata": {},
     "output_type": "execute_result"
    }
   ],
   "source": [
    "X_full.shape"
   ]
  },
  {
   "cell_type": "code",
   "execution_count": 8,
   "metadata": {},
   "outputs": [
    {
     "data": {
      "text/plain": [
       "(14454, 6)"
      ]
     },
     "execution_count": 8,
     "metadata": {},
     "output_type": "execute_result"
    }
   ],
   "source": [
    "X_test.shape"
   ]
  },
  {
   "cell_type": "code",
   "execution_count": 9,
   "metadata": {},
   "outputs": [],
   "source": [
    "\n",
    "#X=X_full.select_dtypes(exclude=['object'])\n",
    "#X=X_full[[\"temperature\"]]#,\"clouds_all\"]]#,\"snow_p_h\",\"rain_p_h\"]]\n",
    "#X_test=X_test_full.select_dtypes(exclude=['object'])\n",
    "#X_test=X_test_full[[\"temperature\"]]#,\"clouds_all\"]]#,\"snow_p_h\",\"rain_p_h\"]]\n",
    "#print(X.shape)\n",
    "#print(X_test.shape)"
   ]
  },
  {
   "cell_type": "code",
   "execution_count": 10,
   "metadata": {},
   "outputs": [
    {
     "data": {
      "text/html": [
       "<div>\n",
       "<style scoped>\n",
       "    .dataframe tbody tr th:only-of-type {\n",
       "        vertical-align: middle;\n",
       "    }\n",
       "\n",
       "    .dataframe tbody tr th {\n",
       "        vertical-align: top;\n",
       "    }\n",
       "\n",
       "    .dataframe thead th {\n",
       "        text-align: right;\n",
       "    }\n",
       "</style>\n",
       "<table border=\"1\" class=\"dataframe\">\n",
       "  <thead>\n",
       "    <tr style=\"text-align: right;\">\n",
       "      <th></th>\n",
       "      <th>is_holiday</th>\n",
       "      <th>humidity</th>\n",
       "      <th>wind_speed</th>\n",
       "      <th>wind_direction</th>\n",
       "      <th>temperature</th>\n",
       "      <th>clouds_all</th>\n",
       "    </tr>\n",
       "    <tr>\n",
       "      <th>date_time</th>\n",
       "      <th></th>\n",
       "      <th></th>\n",
       "      <th></th>\n",
       "      <th></th>\n",
       "      <th></th>\n",
       "      <th></th>\n",
       "    </tr>\n",
       "  </thead>\n",
       "  <tbody>\n",
       "    <tr>\n",
       "      <th>02-10-2012 9.00</th>\n",
       "      <td>None</td>\n",
       "      <td>89</td>\n",
       "      <td>2</td>\n",
       "      <td>329</td>\n",
       "      <td>288.28</td>\n",
       "      <td>40</td>\n",
       "    </tr>\n",
       "    <tr>\n",
       "      <th>02-10-2012 10.00</th>\n",
       "      <td>None</td>\n",
       "      <td>67</td>\n",
       "      <td>3</td>\n",
       "      <td>330</td>\n",
       "      <td>289.36</td>\n",
       "      <td>75</td>\n",
       "    </tr>\n",
       "    <tr>\n",
       "      <th>02-10-2012 11.00</th>\n",
       "      <td>None</td>\n",
       "      <td>66</td>\n",
       "      <td>3</td>\n",
       "      <td>329</td>\n",
       "      <td>289.58</td>\n",
       "      <td>90</td>\n",
       "    </tr>\n",
       "    <tr>\n",
       "      <th>02-10-2012 12.00</th>\n",
       "      <td>None</td>\n",
       "      <td>66</td>\n",
       "      <td>3</td>\n",
       "      <td>329</td>\n",
       "      <td>290.13</td>\n",
       "      <td>90</td>\n",
       "    </tr>\n",
       "    <tr>\n",
       "      <th>02-10-2012 13.00</th>\n",
       "      <td>None</td>\n",
       "      <td>65</td>\n",
       "      <td>3</td>\n",
       "      <td>329</td>\n",
       "      <td>291.14</td>\n",
       "      <td>75</td>\n",
       "    </tr>\n",
       "  </tbody>\n",
       "</table>\n",
       "</div>"
      ],
      "text/plain": [
       "                 is_holiday  humidity  wind_speed  wind_direction  \\\n",
       "date_time                                                           \n",
       "02-10-2012 9.00        None        89           2             329   \n",
       "02-10-2012 10.00       None        67           3             330   \n",
       "02-10-2012 11.00       None        66           3             329   \n",
       "02-10-2012 12.00       None        66           3             329   \n",
       "02-10-2012 13.00       None        65           3             329   \n",
       "\n",
       "                  temperature  clouds_all  \n",
       "date_time                                  \n",
       "02-10-2012 9.00        288.28          40  \n",
       "02-10-2012 10.00       289.36          75  \n",
       "02-10-2012 11.00       289.58          90  \n",
       "02-10-2012 12.00       290.13          90  \n",
       "02-10-2012 13.00       291.14          75  "
      ]
     },
     "execution_count": 10,
     "metadata": {},
     "output_type": "execute_result"
    }
   ],
   "source": [
    "X=X_full.drop([\"air_pollution_index\",\"visibility_in_miles\",\"snow_p_h\",\"dew_point\",\"rain_p_h\",\"weather_type\",\"weather_description\"],axis=1)\n",
    "X.head()\n"
   ]
  },
  {
   "cell_type": "code",
   "execution_count": 11,
   "metadata": {},
   "outputs": [
    {
     "data": {
      "text/plain": [
       "(33750, 6)"
      ]
     },
     "execution_count": 11,
     "metadata": {},
     "output_type": "execute_result"
    }
   ],
   "source": [
    "X.shape"
   ]
  },
  {
   "cell_type": "code",
   "execution_count": 12,
   "metadata": {},
   "outputs": [],
   "source": [
    "from sklearn.model_selection import train_test_split as TTS\n",
    "X_train,X_valid,y_train,y_valid=TTS(X,y,train_size=0.8,test_size=0.2,random_state=7)"
   ]
  },
  {
   "cell_type": "code",
   "execution_count": 13,
   "metadata": {},
   "outputs": [
    {
     "data": {
      "text/html": [
       "<div>\n",
       "<style scoped>\n",
       "    .dataframe tbody tr th:only-of-type {\n",
       "        vertical-align: middle;\n",
       "    }\n",
       "\n",
       "    .dataframe tbody tr th {\n",
       "        vertical-align: top;\n",
       "    }\n",
       "\n",
       "    .dataframe thead th {\n",
       "        text-align: right;\n",
       "    }\n",
       "</style>\n",
       "<table border=\"1\" class=\"dataframe\">\n",
       "  <thead>\n",
       "    <tr style=\"text-align: right;\">\n",
       "      <th></th>\n",
       "      <th>is_holiday</th>\n",
       "      <th>humidity</th>\n",
       "      <th>wind_speed</th>\n",
       "      <th>wind_direction</th>\n",
       "      <th>temperature</th>\n",
       "      <th>clouds_all</th>\n",
       "    </tr>\n",
       "    <tr>\n",
       "      <th>date_time</th>\n",
       "      <th></th>\n",
       "      <th></th>\n",
       "      <th></th>\n",
       "      <th></th>\n",
       "      <th></th>\n",
       "      <th></th>\n",
       "    </tr>\n",
       "  </thead>\n",
       "  <tbody>\n",
       "    <tr>\n",
       "      <th>27-03-2014 6.00</th>\n",
       "      <td>None</td>\n",
       "      <td>86</td>\n",
       "      <td>2</td>\n",
       "      <td>270</td>\n",
       "      <td>276.700</td>\n",
       "      <td>90</td>\n",
       "    </tr>\n",
       "    <tr>\n",
       "      <th>08-07-2015 3.00</th>\n",
       "      <td>None</td>\n",
       "      <td>64</td>\n",
       "      <td>2</td>\n",
       "      <td>141</td>\n",
       "      <td>285.480</td>\n",
       "      <td>1</td>\n",
       "    </tr>\n",
       "    <tr>\n",
       "      <th>19-07-2016 2.00</th>\n",
       "      <td>None</td>\n",
       "      <td>93</td>\n",
       "      <td>2</td>\n",
       "      <td>320</td>\n",
       "      <td>297.888</td>\n",
       "      <td>0</td>\n",
       "    </tr>\n",
       "    <tr>\n",
       "      <th>21-11-2013 6.00</th>\n",
       "      <td>None</td>\n",
       "      <td>61</td>\n",
       "      <td>7</td>\n",
       "      <td>320</td>\n",
       "      <td>276.110</td>\n",
       "      <td>90</td>\n",
       "    </tr>\n",
       "    <tr>\n",
       "      <th>07-05-2016 14.00</th>\n",
       "      <td>None</td>\n",
       "      <td>75</td>\n",
       "      <td>1</td>\n",
       "      <td>259</td>\n",
       "      <td>292.970</td>\n",
       "      <td>75</td>\n",
       "    </tr>\n",
       "  </tbody>\n",
       "</table>\n",
       "</div>"
      ],
      "text/plain": [
       "                 is_holiday  humidity  wind_speed  wind_direction  \\\n",
       "date_time                                                           \n",
       "27-03-2014 6.00        None        86           2             270   \n",
       "08-07-2015 3.00        None        64           2             141   \n",
       "19-07-2016 2.00        None        93           2             320   \n",
       "21-11-2013 6.00        None        61           7             320   \n",
       "07-05-2016 14.00       None        75           1             259   \n",
       "\n",
       "                  temperature  clouds_all  \n",
       "date_time                                  \n",
       "27-03-2014 6.00       276.700          90  \n",
       "08-07-2015 3.00       285.480           1  \n",
       "19-07-2016 2.00       297.888           0  \n",
       "21-11-2013 6.00       276.110          90  \n",
       "07-05-2016 14.00      292.970          75  "
      ]
     },
     "execution_count": 13,
     "metadata": {},
     "output_type": "execute_result"
    }
   ],
   "source": [
    "X_train.head()"
   ]
  },
  {
   "cell_type": "code",
   "execution_count": 14,
   "metadata": {},
   "outputs": [
    {
     "data": {
      "text/plain": [
       "(27000, 6)"
      ]
     },
     "execution_count": 14,
     "metadata": {},
     "output_type": "execute_result"
    }
   ],
   "source": [
    "X_train.shape"
   ]
  },
  {
   "cell_type": "code",
   "execution_count": 15,
   "metadata": {},
   "outputs": [
    {
     "data": {
      "text/plain": [
       "(6750, 6)"
      ]
     },
     "execution_count": 15,
     "metadata": {},
     "output_type": "execute_result"
    }
   ],
   "source": [
    "X_valid.shape"
   ]
  },
  {
   "cell_type": "code",
   "execution_count": 16,
   "metadata": {},
   "outputs": [
    {
     "data": {
      "text/plain": [
       "(14454, 6)"
      ]
     },
     "execution_count": 16,
     "metadata": {},
     "output_type": "execute_result"
    }
   ],
   "source": [
    "X_test.shape"
   ]
  },
  {
   "cell_type": "markdown",
   "metadata": {},
   "source": [
    "## One-hot encoding"
   ]
  },
  {
   "cell_type": "code",
   "execution_count": 17,
   "metadata": {},
   "outputs": [
    {
     "data": {
      "text/plain": [
       "['is_holiday']"
      ]
     },
     "execution_count": 17,
     "metadata": {},
     "output_type": "execute_result"
    }
   ],
   "source": [
    "object_cols=[col for col in X_train.columns if X_train[col].dtype=='object']\n",
    "oh_cols=[col for col in object_cols if X_train[col].nunique()<15]\n",
    "label_cols=set(object_cols)-set(oh_cols)\n",
    "oh_cols"
   ]
  },
  {
   "cell_type": "code",
   "execution_count": 18,
   "metadata": {},
   "outputs": [
    {
     "data": {
      "text/plain": [
       "[('is_holiday', 12)]"
      ]
     },
     "execution_count": 18,
     "metadata": {},
     "output_type": "execute_result"
    }
   ],
   "source": [
    "ob_nu=list(map(lambda col:X_train[col].nunique(),object_cols))\n",
    "d=dict(zip(object_cols,ob_nu))\n",
    "sorted(d.items(),key=lambda x:x[1])"
   ]
  },
  {
   "cell_type": "code",
   "execution_count": 19,
   "metadata": {},
   "outputs": [],
   "source": [
    "#from sklearn.preprocessing import LabelEncoder\n",
    "\n",
    "#labenc=LabelEncoder()\n",
    "\n",
    "\n",
    "#X_train['weather_description']=labenc.fit_transform(X_train['weather_description'])\n",
    "#X_valid['weather_description']=labenc.transform(X_valid.loc['weather_description'])\n"
   ]
  },
  {
   "cell_type": "code",
   "execution_count": 20,
   "metadata": {},
   "outputs": [
    {
     "name": "stdout",
     "output_type": "stream",
     "text": [
      "(27000, 6)\n",
      "(6750, 6)\n",
      "(14454, 6)\n"
     ]
    }
   ],
   "source": [
    "print(X_train.shape)\n",
    "print(X_valid.shape)\n",
    "print(X_test.shape)"
   ]
  },
  {
   "cell_type": "code",
   "execution_count": 21,
   "metadata": {},
   "outputs": [
    {
     "data": {
      "text/html": [
       "<div>\n",
       "<style scoped>\n",
       "    .dataframe tbody tr th:only-of-type {\n",
       "        vertical-align: middle;\n",
       "    }\n",
       "\n",
       "    .dataframe tbody tr th {\n",
       "        vertical-align: top;\n",
       "    }\n",
       "\n",
       "    .dataframe thead th {\n",
       "        text-align: right;\n",
       "    }\n",
       "</style>\n",
       "<table border=\"1\" class=\"dataframe\">\n",
       "  <thead>\n",
       "    <tr style=\"text-align: right;\">\n",
       "      <th></th>\n",
       "      <th>is_holiday</th>\n",
       "      <th>humidity</th>\n",
       "      <th>wind_speed</th>\n",
       "      <th>wind_direction</th>\n",
       "      <th>temperature</th>\n",
       "      <th>clouds_all</th>\n",
       "    </tr>\n",
       "    <tr>\n",
       "      <th>date_time</th>\n",
       "      <th></th>\n",
       "      <th></th>\n",
       "      <th></th>\n",
       "      <th></th>\n",
       "      <th></th>\n",
       "      <th></th>\n",
       "    </tr>\n",
       "  </thead>\n",
       "  <tbody>\n",
       "    <tr>\n",
       "      <th>27-03-2014 6.00</th>\n",
       "      <td>None</td>\n",
       "      <td>86</td>\n",
       "      <td>2</td>\n",
       "      <td>270</td>\n",
       "      <td>276.700</td>\n",
       "      <td>90</td>\n",
       "    </tr>\n",
       "    <tr>\n",
       "      <th>08-07-2015 3.00</th>\n",
       "      <td>None</td>\n",
       "      <td>64</td>\n",
       "      <td>2</td>\n",
       "      <td>141</td>\n",
       "      <td>285.480</td>\n",
       "      <td>1</td>\n",
       "    </tr>\n",
       "    <tr>\n",
       "      <th>19-07-2016 2.00</th>\n",
       "      <td>None</td>\n",
       "      <td>93</td>\n",
       "      <td>2</td>\n",
       "      <td>320</td>\n",
       "      <td>297.888</td>\n",
       "      <td>0</td>\n",
       "    </tr>\n",
       "    <tr>\n",
       "      <th>21-11-2013 6.00</th>\n",
       "      <td>None</td>\n",
       "      <td>61</td>\n",
       "      <td>7</td>\n",
       "      <td>320</td>\n",
       "      <td>276.110</td>\n",
       "      <td>90</td>\n",
       "    </tr>\n",
       "    <tr>\n",
       "      <th>07-05-2016 14.00</th>\n",
       "      <td>None</td>\n",
       "      <td>75</td>\n",
       "      <td>1</td>\n",
       "      <td>259</td>\n",
       "      <td>292.970</td>\n",
       "      <td>75</td>\n",
       "    </tr>\n",
       "  </tbody>\n",
       "</table>\n",
       "</div>"
      ],
      "text/plain": [
       "                 is_holiday  humidity  wind_speed  wind_direction  \\\n",
       "date_time                                                           \n",
       "27-03-2014 6.00        None        86           2             270   \n",
       "08-07-2015 3.00        None        64           2             141   \n",
       "19-07-2016 2.00        None        93           2             320   \n",
       "21-11-2013 6.00        None        61           7             320   \n",
       "07-05-2016 14.00       None        75           1             259   \n",
       "\n",
       "                  temperature  clouds_all  \n",
       "date_time                                  \n",
       "27-03-2014 6.00       276.700          90  \n",
       "08-07-2015 3.00       285.480           1  \n",
       "19-07-2016 2.00       297.888           0  \n",
       "21-11-2013 6.00       276.110          90  \n",
       "07-05-2016 14.00      292.970          75  "
      ]
     },
     "execution_count": 21,
     "metadata": {},
     "output_type": "execute_result"
    }
   ],
   "source": [
    "X_train.head()"
   ]
  },
  {
   "cell_type": "code",
   "execution_count": 22,
   "metadata": {},
   "outputs": [],
   "source": [
    "from sklearn.preprocessing import OneHotEncoder"
   ]
  },
  {
   "cell_type": "code",
   "execution_count": 23,
   "metadata": {},
   "outputs": [],
   "source": [
    "ohencoder=OneHotEncoder(handle_unknown='ignore',sparse=False)\n",
    "OH_train_cols =pd.DataFrame(ohencoder.fit_transform(X_train[oh_cols]))\n",
    "OH_valid_cols =pd.DataFrame(ohencoder.transform(X_valid[oh_cols]))\n",
    "OH_test_cols=pd.DataFrame(ohencoder.transform(X_test[oh_cols]))\n",
    "\n",
    "OH_train_cols.index=X_train.index\n",
    "OH_valid_cols.index=X_valid.index\n",
    "OH_test_cols.index=X_test.index\n",
    "\n",
    "temp_train=X_train.drop(object_cols,axis=1)\n",
    "temp_valid=X_valid.drop(object_cols,axis=1)\n",
    "temp_test=X_test.drop(object_cols,axis=1)\n",
    "\n",
    "X_train=pd.concat([temp_train,OH_train_cols],axis=1)\n",
    "X_valid=pd.concat([temp_valid,OH_valid_cols],axis=1)\n",
    "X_test=pd.concat([temp_test,OH_test_cols],axis=1)"
   ]
  },
  {
   "cell_type": "code",
   "execution_count": 24,
   "metadata": {},
   "outputs": [
    {
     "data": {
      "text/plain": [
       "(27000, 17)"
      ]
     },
     "execution_count": 24,
     "metadata": {},
     "output_type": "execute_result"
    }
   ],
   "source": [
    "X_train.shape"
   ]
  },
  {
   "cell_type": "code",
   "execution_count": 25,
   "metadata": {},
   "outputs": [
    {
     "data": {
      "text/plain": [
       "(6750, 17)"
      ]
     },
     "execution_count": 25,
     "metadata": {},
     "output_type": "execute_result"
    }
   ],
   "source": [
    "X_valid.shape"
   ]
  },
  {
   "cell_type": "code",
   "execution_count": 26,
   "metadata": {},
   "outputs": [
    {
     "data": {
      "text/plain": [
       "(14454, 17)"
      ]
     },
     "execution_count": 26,
     "metadata": {},
     "output_type": "execute_result"
    }
   ],
   "source": [
    "X_test.shape"
   ]
  },
  {
   "cell_type": "code",
   "execution_count": 27,
   "metadata": {},
   "outputs": [
    {
     "name": "stdout",
     "output_type": "stream",
     "text": [
      "(27000, 17)\n",
      "humidity          0\n",
      "wind_speed        0\n",
      "wind_direction    0\n",
      "temperature       0\n",
      "clouds_all        0\n",
      "0                 0\n",
      "1                 0\n",
      "2                 0\n",
      "3                 0\n",
      "4                 0\n",
      "5                 0\n",
      "6                 0\n",
      "7                 0\n",
      "8                 0\n",
      "9                 0\n",
      "10                0\n",
      "11                0\n",
      "dtype: int64\n"
     ]
    }
   ],
   "source": [
    "print(X_train.shape)\n",
    "missing_val_count_by_column = (X_train.isnull().sum())\n",
    "\n",
    "print(missing_val_count_by_column)"
   ]
  },
  {
   "cell_type": "code",
   "execution_count": 28,
   "metadata": {},
   "outputs": [],
   "source": [
    "from sklearn.ensemble import RandomForestRegressor as RFR\n",
    "from sklearn.metrics import mean_absolute_error as MAE\n",
    "\n",
    "def rand_forest(X_train,X_valid,y_train,y_valid,n):\n",
    "    model=RFR(n_estimators=n,random_state=1)\n",
    "    model.fit(X_train,y_train)\n",
    "    preds=model.predict(X_valid)\n",
    "    return (MAE(y_valid,preds))"
   ]
  },
  {
   "cell_type": "code",
   "execution_count": 29,
   "metadata": {},
   "outputs": [],
   "source": [
    "from sklearn import linear_model\n",
    "def linear_reg(X_train,X_valid,y_train,y_valid):\n",
    "    regr=linear_model.LinearRegression()\n",
    "    regr.fit(X_train,y_train)\n",
    "    lpreds=regr.predict(X_valid)\n",
    "    return MAE(y_valid,lpreds)\n"
   ]
  },
  {
   "cell_type": "code",
   "execution_count": 30,
   "metadata": {},
   "outputs": [
    {
     "data": {
      "text/html": [
       "<div>\n",
       "<style scoped>\n",
       "    .dataframe tbody tr th:only-of-type {\n",
       "        vertical-align: middle;\n",
       "    }\n",
       "\n",
       "    .dataframe tbody tr th {\n",
       "        vertical-align: top;\n",
       "    }\n",
       "\n",
       "    .dataframe thead th {\n",
       "        text-align: right;\n",
       "    }\n",
       "</style>\n",
       "<table border=\"1\" class=\"dataframe\">\n",
       "  <thead>\n",
       "    <tr style=\"text-align: right;\">\n",
       "      <th></th>\n",
       "      <th>humidity</th>\n",
       "      <th>wind_speed</th>\n",
       "      <th>wind_direction</th>\n",
       "      <th>temperature</th>\n",
       "      <th>clouds_all</th>\n",
       "      <th>0</th>\n",
       "      <th>1</th>\n",
       "      <th>2</th>\n",
       "      <th>3</th>\n",
       "      <th>4</th>\n",
       "      <th>5</th>\n",
       "      <th>6</th>\n",
       "      <th>7</th>\n",
       "      <th>8</th>\n",
       "      <th>9</th>\n",
       "      <th>10</th>\n",
       "      <th>11</th>\n",
       "    </tr>\n",
       "    <tr>\n",
       "      <th>date_time</th>\n",
       "      <th></th>\n",
       "      <th></th>\n",
       "      <th></th>\n",
       "      <th></th>\n",
       "      <th></th>\n",
       "      <th></th>\n",
       "      <th></th>\n",
       "      <th></th>\n",
       "      <th></th>\n",
       "      <th></th>\n",
       "      <th></th>\n",
       "      <th></th>\n",
       "      <th></th>\n",
       "      <th></th>\n",
       "      <th></th>\n",
       "      <th></th>\n",
       "      <th></th>\n",
       "    </tr>\n",
       "  </thead>\n",
       "  <tbody>\n",
       "    <tr>\n",
       "      <th>27-03-2014 6.00</th>\n",
       "      <td>86</td>\n",
       "      <td>2</td>\n",
       "      <td>270</td>\n",
       "      <td>276.700</td>\n",
       "      <td>90</td>\n",
       "      <td>0.0</td>\n",
       "      <td>0.0</td>\n",
       "      <td>0.0</td>\n",
       "      <td>0.0</td>\n",
       "      <td>0.0</td>\n",
       "      <td>0.0</td>\n",
       "      <td>0.0</td>\n",
       "      <td>1.0</td>\n",
       "      <td>0.0</td>\n",
       "      <td>0.0</td>\n",
       "      <td>0.0</td>\n",
       "      <td>0.0</td>\n",
       "    </tr>\n",
       "    <tr>\n",
       "      <th>08-07-2015 3.00</th>\n",
       "      <td>64</td>\n",
       "      <td>2</td>\n",
       "      <td>141</td>\n",
       "      <td>285.480</td>\n",
       "      <td>1</td>\n",
       "      <td>0.0</td>\n",
       "      <td>0.0</td>\n",
       "      <td>0.0</td>\n",
       "      <td>0.0</td>\n",
       "      <td>0.0</td>\n",
       "      <td>0.0</td>\n",
       "      <td>0.0</td>\n",
       "      <td>1.0</td>\n",
       "      <td>0.0</td>\n",
       "      <td>0.0</td>\n",
       "      <td>0.0</td>\n",
       "      <td>0.0</td>\n",
       "    </tr>\n",
       "    <tr>\n",
       "      <th>19-07-2016 2.00</th>\n",
       "      <td>93</td>\n",
       "      <td>2</td>\n",
       "      <td>320</td>\n",
       "      <td>297.888</td>\n",
       "      <td>0</td>\n",
       "      <td>0.0</td>\n",
       "      <td>0.0</td>\n",
       "      <td>0.0</td>\n",
       "      <td>0.0</td>\n",
       "      <td>0.0</td>\n",
       "      <td>0.0</td>\n",
       "      <td>0.0</td>\n",
       "      <td>1.0</td>\n",
       "      <td>0.0</td>\n",
       "      <td>0.0</td>\n",
       "      <td>0.0</td>\n",
       "      <td>0.0</td>\n",
       "    </tr>\n",
       "    <tr>\n",
       "      <th>21-11-2013 6.00</th>\n",
       "      <td>61</td>\n",
       "      <td>7</td>\n",
       "      <td>320</td>\n",
       "      <td>276.110</td>\n",
       "      <td>90</td>\n",
       "      <td>0.0</td>\n",
       "      <td>0.0</td>\n",
       "      <td>0.0</td>\n",
       "      <td>0.0</td>\n",
       "      <td>0.0</td>\n",
       "      <td>0.0</td>\n",
       "      <td>0.0</td>\n",
       "      <td>1.0</td>\n",
       "      <td>0.0</td>\n",
       "      <td>0.0</td>\n",
       "      <td>0.0</td>\n",
       "      <td>0.0</td>\n",
       "    </tr>\n",
       "    <tr>\n",
       "      <th>07-05-2016 14.00</th>\n",
       "      <td>75</td>\n",
       "      <td>1</td>\n",
       "      <td>259</td>\n",
       "      <td>292.970</td>\n",
       "      <td>75</td>\n",
       "      <td>0.0</td>\n",
       "      <td>0.0</td>\n",
       "      <td>0.0</td>\n",
       "      <td>0.0</td>\n",
       "      <td>0.0</td>\n",
       "      <td>0.0</td>\n",
       "      <td>0.0</td>\n",
       "      <td>1.0</td>\n",
       "      <td>0.0</td>\n",
       "      <td>0.0</td>\n",
       "      <td>0.0</td>\n",
       "      <td>0.0</td>\n",
       "    </tr>\n",
       "  </tbody>\n",
       "</table>\n",
       "</div>"
      ],
      "text/plain": [
       "                  humidity  wind_speed  wind_direction  temperature  \\\n",
       "date_time                                                             \n",
       "27-03-2014 6.00         86           2             270      276.700   \n",
       "08-07-2015 3.00         64           2             141      285.480   \n",
       "19-07-2016 2.00         93           2             320      297.888   \n",
       "21-11-2013 6.00         61           7             320      276.110   \n",
       "07-05-2016 14.00        75           1             259      292.970   \n",
       "\n",
       "                  clouds_all    0    1    2    3    4    5    6    7    8  \\\n",
       "date_time                                                                   \n",
       "27-03-2014 6.00           90  0.0  0.0  0.0  0.0  0.0  0.0  0.0  1.0  0.0   \n",
       "08-07-2015 3.00            1  0.0  0.0  0.0  0.0  0.0  0.0  0.0  1.0  0.0   \n",
       "19-07-2016 2.00            0  0.0  0.0  0.0  0.0  0.0  0.0  0.0  1.0  0.0   \n",
       "21-11-2013 6.00           90  0.0  0.0  0.0  0.0  0.0  0.0  0.0  1.0  0.0   \n",
       "07-05-2016 14.00          75  0.0  0.0  0.0  0.0  0.0  0.0  0.0  1.0  0.0   \n",
       "\n",
       "                    9   10   11  \n",
       "date_time                        \n",
       "27-03-2014 6.00   0.0  0.0  0.0  \n",
       "08-07-2015 3.00   0.0  0.0  0.0  \n",
       "19-07-2016 2.00   0.0  0.0  0.0  \n",
       "21-11-2013 6.00   0.0  0.0  0.0  \n",
       "07-05-2016 14.00  0.0  0.0  0.0  "
      ]
     },
     "execution_count": 30,
     "metadata": {},
     "output_type": "execute_result"
    }
   ],
   "source": [
    "X=pd.concat([X_train,X_valid],axis=0)\n",
    "X.head()"
   ]
  },
  {
   "cell_type": "code",
   "execution_count": 31,
   "metadata": {},
   "outputs": [
    {
     "data": {
      "text/plain": [
       "(14454, 17)"
      ]
     },
     "execution_count": 31,
     "metadata": {},
     "output_type": "execute_result"
    }
   ],
   "source": [
    "X_test.shape"
   ]
  },
  {
   "cell_type": "code",
   "execution_count": 32,
   "metadata": {},
   "outputs": [
    {
     "data": {
      "text/plain": [
       "(33750, 17)"
      ]
     },
     "execution_count": 32,
     "metadata": {},
     "output_type": "execute_result"
    }
   ],
   "source": [
    "X.shape"
   ]
  },
  {
   "cell_type": "code",
   "execution_count": 33,
   "metadata": {},
   "outputs": [
    {
     "data": {
      "text/plain": [
       "(14454, 17)"
      ]
     },
     "execution_count": 33,
     "metadata": {},
     "output_type": "execute_result"
    }
   ],
   "source": [
    "X_test.shape"
   ]
  },
  {
   "cell_type": "code",
   "execution_count": 34,
   "metadata": {},
   "outputs": [],
   "source": [
    "#trials=[600,700,800]\n",
    "#for n in trials:\n",
    "#   print(n,\":\\t\",rand_forest(X_train,X_valid,y_train,y_valid,n))"
   ]
  },
  {
   "cell_type": "code",
   "execution_count": 48,
   "metadata": {},
   "outputs": [
    {
     "name": "stderr",
     "output_type": "stream",
     "text": [
      "C:\\Users\\Saranga\\Anaconda3\\lib\\site-packages\\xgboost\\core.py:587: FutureWarning: Series.base is deprecated and will be removed in a future version\n",
      "  if getattr(data, 'base', None) is not None and \\\n"
     ]
    },
    {
     "name": "stdout",
     "output_type": "stream",
     "text": [
      "[21:08:54] WARNING: C:/Jenkins/workspace/xgboost-win64_release_0.90/src/objective/regression_obj.cu:152: reg:linear is now deprecated in favor of reg:squarederror.\n",
      "1645.3537342448765\n"
     ]
    }
   ],
   "source": [
    "from xgboost import XGBRegressor\n",
    "my_model = XGBRegressor(n_estimators=1000, learning_rate=0.09, n_jobs=4)\n",
    "my_model.fit(X_train, y_train, \n",
    "             early_stopping_rounds=5, \n",
    "             eval_set=[(X_valid, y_valid)], \n",
    "             verbose=False)\n",
    "xpreds=my_model.predict(X_valid)\n",
    "print(MAE(y_valid,xpreds))"
   ]
  },
  {
   "cell_type": "code",
   "execution_count": 36,
   "metadata": {},
   "outputs": [
    {
     "name": "stdout",
     "output_type": "stream",
     "text": [
      "1385.5671915538808\n"
     ]
    }
   ],
   "source": [
    "temp_model=RFR(n_estimators=300,random_state=1)\n",
    "temp_model.fit(X_train,y_train)\n",
    "preds_test=temp_model.predict(X_valid)\n",
    "print(MAE(y_valid,preds_test))"
   ]
  },
  {
   "cell_type": "code",
   "execution_count": 37,
   "metadata": {},
   "outputs": [
    {
     "data": {
      "text/plain": [
       "'final_model=RFR(n_estimators=300,random_state=1)\\nfinal_model.fit(X,y)\\npreds_test=final_model.predict(X_test)\\noutput=pd.DataFrame({\\'date_time\\':X_test.index,\\'traffic_volume\\':preds_test})\\noutput.to_csv(\"submission7.csv\",index=False)\\noutput\\n'"
      ]
     },
     "execution_count": 37,
     "metadata": {},
     "output_type": "execute_result"
    }
   ],
   "source": [
    "\"\"\"final_model=RFR(n_estimators=300,random_state=1)\n",
    "final_model.fit(X,y)\n",
    "preds_test=final_model.predict(X_test)\n",
    "output=pd.DataFrame({'date_time':X_test.index,'traffic_volume':preds_test})\n",
    "output.to_csv(\"submission7.csv\",index=False)\n",
    "output\n",
    "\"\"\""
   ]
  },
  {
   "cell_type": "code",
   "execution_count": 50,
   "metadata": {},
   "outputs": [
    {
     "name": "stdout",
     "output_type": "stream",
     "text": [
      "[21:11:29] WARNING: C:/Jenkins/workspace/xgboost-win64_release_0.90/src/objective/regression_obj.cu:152: reg:linear is now deprecated in favor of reg:squarederror.\n"
     ]
    },
    {
     "data": {
      "text/plain": [
       "array([3139.5535, 3139.5535, 3182.1316, ..., 3406.1787, 2971.7732,\n",
       "       3117.283 ], dtype=float32)"
      ]
     },
     "execution_count": 50,
     "metadata": {},
     "output_type": "execute_result"
    }
   ],
   "source": [
    "final_model=XGBRegressor(n_estimators=1108, learning_rate=0.09,n_jobs=4)\n",
    "final_model.fit(X,y)\n",
    "preds_test=final_model.predict(X_test)\n",
    "preds_test"
   ]
  },
  {
   "cell_type": "code",
   "execution_count": 51,
   "metadata": {},
   "outputs": [
    {
     "data": {
      "text/html": [
       "<div>\n",
       "<style scoped>\n",
       "    .dataframe tbody tr th:only-of-type {\n",
       "        vertical-align: middle;\n",
       "    }\n",
       "\n",
       "    .dataframe tbody tr th {\n",
       "        vertical-align: top;\n",
       "    }\n",
       "\n",
       "    .dataframe thead th {\n",
       "        text-align: right;\n",
       "    }\n",
       "</style>\n",
       "<table border=\"1\" class=\"dataframe\">\n",
       "  <thead>\n",
       "    <tr style=\"text-align: right;\">\n",
       "      <th></th>\n",
       "      <th>date_time</th>\n",
       "      <th>traffic_volume</th>\n",
       "    </tr>\n",
       "  </thead>\n",
       "  <tbody>\n",
       "    <tr>\n",
       "      <th>0</th>\n",
       "      <td>2017-05-18 00:00:00</td>\n",
       "      <td>3139.553467</td>\n",
       "    </tr>\n",
       "    <tr>\n",
       "      <th>1</th>\n",
       "      <td>2017-05-18 00:00:00</td>\n",
       "      <td>3139.553467</td>\n",
       "    </tr>\n",
       "    <tr>\n",
       "      <th>2</th>\n",
       "      <td>2017-05-18 00:00:00</td>\n",
       "      <td>3182.131592</td>\n",
       "    </tr>\n",
       "    <tr>\n",
       "      <th>3</th>\n",
       "      <td>2017-05-18 01:00:00</td>\n",
       "      <td>3150.541260</td>\n",
       "    </tr>\n",
       "    <tr>\n",
       "      <th>4</th>\n",
       "      <td>2017-05-18 01:00:00</td>\n",
       "      <td>3150.541260</td>\n",
       "    </tr>\n",
       "    <tr>\n",
       "      <th>5</th>\n",
       "      <td>2017-05-18 02:00:00</td>\n",
       "      <td>3259.235352</td>\n",
       "    </tr>\n",
       "    <tr>\n",
       "      <th>6</th>\n",
       "      <td>2017-05-18 02:00:00</td>\n",
       "      <td>3259.235352</td>\n",
       "    </tr>\n",
       "    <tr>\n",
       "      <th>7</th>\n",
       "      <td>2017-05-18 02:00:00</td>\n",
       "      <td>3259.235352</td>\n",
       "    </tr>\n",
       "    <tr>\n",
       "      <th>8</th>\n",
       "      <td>2017-05-18 03:00:00</td>\n",
       "      <td>3153.204590</td>\n",
       "    </tr>\n",
       "    <tr>\n",
       "      <th>9</th>\n",
       "      <td>2017-05-18 03:00:00</td>\n",
       "      <td>3153.204590</td>\n",
       "    </tr>\n",
       "    <tr>\n",
       "      <th>10</th>\n",
       "      <td>2017-05-18 03:00:00</td>\n",
       "      <td>3153.204590</td>\n",
       "    </tr>\n",
       "    <tr>\n",
       "      <th>11</th>\n",
       "      <td>2017-05-18 04:00:00</td>\n",
       "      <td>3258.577881</td>\n",
       "    </tr>\n",
       "    <tr>\n",
       "      <th>12</th>\n",
       "      <td>2017-05-18 04:00:00</td>\n",
       "      <td>3258.577881</td>\n",
       "    </tr>\n",
       "    <tr>\n",
       "      <th>13</th>\n",
       "      <td>2017-05-18 04:00:00</td>\n",
       "      <td>3258.577881</td>\n",
       "    </tr>\n",
       "    <tr>\n",
       "      <th>14</th>\n",
       "      <td>2017-05-18 05:00:00</td>\n",
       "      <td>3362.953369</td>\n",
       "    </tr>\n",
       "    <tr>\n",
       "      <th>15</th>\n",
       "      <td>2017-05-18 05:00:00</td>\n",
       "      <td>3362.953369</td>\n",
       "    </tr>\n",
       "    <tr>\n",
       "      <th>16</th>\n",
       "      <td>2017-05-18 05:00:00</td>\n",
       "      <td>3362.953369</td>\n",
       "    </tr>\n",
       "    <tr>\n",
       "      <th>17</th>\n",
       "      <td>2017-05-18 06:00:00</td>\n",
       "      <td>3447.218018</td>\n",
       "    </tr>\n",
       "    <tr>\n",
       "      <th>18</th>\n",
       "      <td>2017-05-18 06:00:00</td>\n",
       "      <td>3447.218018</td>\n",
       "    </tr>\n",
       "    <tr>\n",
       "      <th>19</th>\n",
       "      <td>2017-05-18 07:00:00</td>\n",
       "      <td>3752.777832</td>\n",
       "    </tr>\n",
       "    <tr>\n",
       "      <th>20</th>\n",
       "      <td>2017-05-18 07:00:00</td>\n",
       "      <td>3752.777832</td>\n",
       "    </tr>\n",
       "    <tr>\n",
       "      <th>21</th>\n",
       "      <td>2017-05-18 08:00:00</td>\n",
       "      <td>3752.777832</td>\n",
       "    </tr>\n",
       "    <tr>\n",
       "      <th>22</th>\n",
       "      <td>2017-05-18 08:00:00</td>\n",
       "      <td>3480.187012</td>\n",
       "    </tr>\n",
       "    <tr>\n",
       "      <th>23</th>\n",
       "      <td>2017-05-18 08:00:00</td>\n",
       "      <td>3569.384766</td>\n",
       "    </tr>\n",
       "    <tr>\n",
       "      <th>24</th>\n",
       "      <td>2017-05-18 09:00:00</td>\n",
       "      <td>3577.673096</td>\n",
       "    </tr>\n",
       "    <tr>\n",
       "      <th>25</th>\n",
       "      <td>2017-05-18 09:00:00</td>\n",
       "      <td>3577.673096</td>\n",
       "    </tr>\n",
       "    <tr>\n",
       "      <th>26</th>\n",
       "      <td>2017-05-18 09:00:00</td>\n",
       "      <td>3370.079590</td>\n",
       "    </tr>\n",
       "    <tr>\n",
       "      <th>27</th>\n",
       "      <td>2017-05-18 10:00:00</td>\n",
       "      <td>3480.858154</td>\n",
       "    </tr>\n",
       "    <tr>\n",
       "      <th>28</th>\n",
       "      <td>2017-05-18 10:00:00</td>\n",
       "      <td>3402.373291</td>\n",
       "    </tr>\n",
       "    <tr>\n",
       "      <th>29</th>\n",
       "      <td>2017-05-18 11:00:00</td>\n",
       "      <td>3641.196533</td>\n",
       "    </tr>\n",
       "    <tr>\n",
       "      <th>...</th>\n",
       "      <td>...</td>\n",
       "      <td>...</td>\n",
       "    </tr>\n",
       "    <tr>\n",
       "      <th>14424</th>\n",
       "      <td>2018-09-29 20:00:00</td>\n",
       "      <td>3300.113770</td>\n",
       "    </tr>\n",
       "    <tr>\n",
       "      <th>14425</th>\n",
       "      <td>2018-09-29 21:00:00</td>\n",
       "      <td>3298.869873</td>\n",
       "    </tr>\n",
       "    <tr>\n",
       "      <th>14426</th>\n",
       "      <td>2018-09-29 22:00:00</td>\n",
       "      <td>3143.689697</td>\n",
       "    </tr>\n",
       "    <tr>\n",
       "      <th>14427</th>\n",
       "      <td>2018-09-29 23:00:00</td>\n",
       "      <td>3310.558350</td>\n",
       "    </tr>\n",
       "    <tr>\n",
       "      <th>14428</th>\n",
       "      <td>2018-09-30 00:00:00</td>\n",
       "      <td>3444.407715</td>\n",
       "    </tr>\n",
       "    <tr>\n",
       "      <th>14429</th>\n",
       "      <td>2018-09-30 01:00:00</td>\n",
       "      <td>3286.730957</td>\n",
       "    </tr>\n",
       "    <tr>\n",
       "      <th>14430</th>\n",
       "      <td>2018-09-30 02:00:00</td>\n",
       "      <td>3338.514893</td>\n",
       "    </tr>\n",
       "    <tr>\n",
       "      <th>14431</th>\n",
       "      <td>2018-09-30 03:00:00</td>\n",
       "      <td>3341.040039</td>\n",
       "    </tr>\n",
       "    <tr>\n",
       "      <th>14432</th>\n",
       "      <td>2018-09-30 04:00:00</td>\n",
       "      <td>3229.648193</td>\n",
       "    </tr>\n",
       "    <tr>\n",
       "      <th>14433</th>\n",
       "      <td>2018-09-30 05:00:00</td>\n",
       "      <td>2997.597900</td>\n",
       "    </tr>\n",
       "    <tr>\n",
       "      <th>14434</th>\n",
       "      <td>2018-09-30 06:00:00</td>\n",
       "      <td>3363.402832</td>\n",
       "    </tr>\n",
       "    <tr>\n",
       "      <th>14435</th>\n",
       "      <td>2018-09-30 07:00:00</td>\n",
       "      <td>3725.198730</td>\n",
       "    </tr>\n",
       "    <tr>\n",
       "      <th>14436</th>\n",
       "      <td>2018-09-30 08:00:00</td>\n",
       "      <td>3363.597656</td>\n",
       "    </tr>\n",
       "    <tr>\n",
       "      <th>14437</th>\n",
       "      <td>2018-09-30 09:00:00</td>\n",
       "      <td>3798.972900</td>\n",
       "    </tr>\n",
       "    <tr>\n",
       "      <th>14438</th>\n",
       "      <td>2018-09-30 10:00:00</td>\n",
       "      <td>4328.463867</td>\n",
       "    </tr>\n",
       "    <tr>\n",
       "      <th>14439</th>\n",
       "      <td>2018-09-30 11:00:00</td>\n",
       "      <td>3719.167725</td>\n",
       "    </tr>\n",
       "    <tr>\n",
       "      <th>14440</th>\n",
       "      <td>2018-09-30 12:00:00</td>\n",
       "      <td>3302.078613</td>\n",
       "    </tr>\n",
       "    <tr>\n",
       "      <th>14441</th>\n",
       "      <td>2018-09-30 13:00:00</td>\n",
       "      <td>4169.354980</td>\n",
       "    </tr>\n",
       "    <tr>\n",
       "      <th>14442</th>\n",
       "      <td>2018-09-30 14:00:00</td>\n",
       "      <td>2970.937500</td>\n",
       "    </tr>\n",
       "    <tr>\n",
       "      <th>14443</th>\n",
       "      <td>2018-09-30 14:00:00</td>\n",
       "      <td>3443.567383</td>\n",
       "    </tr>\n",
       "    <tr>\n",
       "      <th>14444</th>\n",
       "      <td>2018-09-30 15:00:00</td>\n",
       "      <td>2375.675781</td>\n",
       "    </tr>\n",
       "    <tr>\n",
       "      <th>14445</th>\n",
       "      <td>2018-09-30 15:00:00</td>\n",
       "      <td>3269.704834</td>\n",
       "    </tr>\n",
       "    <tr>\n",
       "      <th>14446</th>\n",
       "      <td>2018-09-30 16:00:00</td>\n",
       "      <td>3109.673828</td>\n",
       "    </tr>\n",
       "    <tr>\n",
       "      <th>14447</th>\n",
       "      <td>2018-09-30 17:00:00</td>\n",
       "      <td>3002.805176</td>\n",
       "    </tr>\n",
       "    <tr>\n",
       "      <th>14448</th>\n",
       "      <td>2018-09-30 18:00:00</td>\n",
       "      <td>3028.708252</td>\n",
       "    </tr>\n",
       "    <tr>\n",
       "      <th>14449</th>\n",
       "      <td>2018-09-30 19:00:00</td>\n",
       "      <td>4165.042969</td>\n",
       "    </tr>\n",
       "    <tr>\n",
       "      <th>14450</th>\n",
       "      <td>2018-09-30 20:00:00</td>\n",
       "      <td>3181.544678</td>\n",
       "    </tr>\n",
       "    <tr>\n",
       "      <th>14451</th>\n",
       "      <td>2018-09-30 21:00:00</td>\n",
       "      <td>3406.178711</td>\n",
       "    </tr>\n",
       "    <tr>\n",
       "      <th>14452</th>\n",
       "      <td>2018-09-30 22:00:00</td>\n",
       "      <td>2971.773193</td>\n",
       "    </tr>\n",
       "    <tr>\n",
       "      <th>14453</th>\n",
       "      <td>2018-09-30 23:00:00</td>\n",
       "      <td>3117.282959</td>\n",
       "    </tr>\n",
       "  </tbody>\n",
       "</table>\n",
       "<p>14454 rows × 2 columns</p>\n",
       "</div>"
      ],
      "text/plain": [
       "                date_time  traffic_volume\n",
       "0     2017-05-18 00:00:00     3139.553467\n",
       "1     2017-05-18 00:00:00     3139.553467\n",
       "2     2017-05-18 00:00:00     3182.131592\n",
       "3     2017-05-18 01:00:00     3150.541260\n",
       "4     2017-05-18 01:00:00     3150.541260\n",
       "5     2017-05-18 02:00:00     3259.235352\n",
       "6     2017-05-18 02:00:00     3259.235352\n",
       "7     2017-05-18 02:00:00     3259.235352\n",
       "8     2017-05-18 03:00:00     3153.204590\n",
       "9     2017-05-18 03:00:00     3153.204590\n",
       "10    2017-05-18 03:00:00     3153.204590\n",
       "11    2017-05-18 04:00:00     3258.577881\n",
       "12    2017-05-18 04:00:00     3258.577881\n",
       "13    2017-05-18 04:00:00     3258.577881\n",
       "14    2017-05-18 05:00:00     3362.953369\n",
       "15    2017-05-18 05:00:00     3362.953369\n",
       "16    2017-05-18 05:00:00     3362.953369\n",
       "17    2017-05-18 06:00:00     3447.218018\n",
       "18    2017-05-18 06:00:00     3447.218018\n",
       "19    2017-05-18 07:00:00     3752.777832\n",
       "20    2017-05-18 07:00:00     3752.777832\n",
       "21    2017-05-18 08:00:00     3752.777832\n",
       "22    2017-05-18 08:00:00     3480.187012\n",
       "23    2017-05-18 08:00:00     3569.384766\n",
       "24    2017-05-18 09:00:00     3577.673096\n",
       "25    2017-05-18 09:00:00     3577.673096\n",
       "26    2017-05-18 09:00:00     3370.079590\n",
       "27    2017-05-18 10:00:00     3480.858154\n",
       "28    2017-05-18 10:00:00     3402.373291\n",
       "29    2017-05-18 11:00:00     3641.196533\n",
       "...                   ...             ...\n",
       "14424 2018-09-29 20:00:00     3300.113770\n",
       "14425 2018-09-29 21:00:00     3298.869873\n",
       "14426 2018-09-29 22:00:00     3143.689697\n",
       "14427 2018-09-29 23:00:00     3310.558350\n",
       "14428 2018-09-30 00:00:00     3444.407715\n",
       "14429 2018-09-30 01:00:00     3286.730957\n",
       "14430 2018-09-30 02:00:00     3338.514893\n",
       "14431 2018-09-30 03:00:00     3341.040039\n",
       "14432 2018-09-30 04:00:00     3229.648193\n",
       "14433 2018-09-30 05:00:00     2997.597900\n",
       "14434 2018-09-30 06:00:00     3363.402832\n",
       "14435 2018-09-30 07:00:00     3725.198730\n",
       "14436 2018-09-30 08:00:00     3363.597656\n",
       "14437 2018-09-30 09:00:00     3798.972900\n",
       "14438 2018-09-30 10:00:00     4328.463867\n",
       "14439 2018-09-30 11:00:00     3719.167725\n",
       "14440 2018-09-30 12:00:00     3302.078613\n",
       "14441 2018-09-30 13:00:00     4169.354980\n",
       "14442 2018-09-30 14:00:00     2970.937500\n",
       "14443 2018-09-30 14:00:00     3443.567383\n",
       "14444 2018-09-30 15:00:00     2375.675781\n",
       "14445 2018-09-30 15:00:00     3269.704834\n",
       "14446 2018-09-30 16:00:00     3109.673828\n",
       "14447 2018-09-30 17:00:00     3002.805176\n",
       "14448 2018-09-30 18:00:00     3028.708252\n",
       "14449 2018-09-30 19:00:00     4165.042969\n",
       "14450 2018-09-30 20:00:00     3181.544678\n",
       "14451 2018-09-30 21:00:00     3406.178711\n",
       "14452 2018-09-30 22:00:00     2971.773193\n",
       "14453 2018-09-30 23:00:00     3117.282959\n",
       "\n",
       "[14454 rows x 2 columns]"
      ]
     },
     "execution_count": 51,
     "metadata": {},
     "output_type": "execute_result"
    }
   ],
   "source": [
    "output=pd.DataFrame({'date_time':X_test.index,'traffic_volume':preds_test})\n",
    "output.to_csv(\"submissionlast.csv\",index=False)\n",
    "output"
   ]
  }
 ],
 "metadata": {
  "kernelspec": {
   "display_name": "Python 3",
   "language": "python",
   "name": "python3"
  },
  "language_info": {
   "codemirror_mode": {
    "name": "ipython",
    "version": 3
   },
   "file_extension": ".py",
   "mimetype": "text/x-python",
   "name": "python",
   "nbconvert_exporter": "python",
   "pygments_lexer": "ipython3",
   "version": "3.7.3"
  }
 },
 "nbformat": 4,
 "nbformat_minor": 2
}
